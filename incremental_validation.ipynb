{
 "cells": [
  {
   "cell_type": "markdown",
   "metadata": {},
   "source": [
    "## Incremental Saving Validation"
   ]
  },
  {
   "cell_type": "code",
   "execution_count": 1,
   "metadata": {},
   "outputs": [],
   "source": [
    "import os\n",
    "import numpy as np\n",
    "import matplotlib.pyplot as plt\n",
    "import h5py\n",
    "import glob as glob\n",
    "import h5py\n",
    "from gqp_mc import data as Data \n",
    "from gqp_mc import fitters as Fitters\n",
    "from matplotlib import cm\n",
    "from matplotlib import colors\n",
    "from seaborn import cm as cmap"
   ]
  },
  {
   "cell_type": "code",
   "execution_count": 2,
   "metadata": {},
   "outputs": [],
   "source": [
    "specs,meta = Data.Spectra(sim='lgal',noise = 'none', lib = 'bc03', sample = 'mini_mocha')\n",
    "photo, _ = Data.Photometry(sim='lgal', noise= 'none', lib='bc03', sample='mini_mocha') \n",
    "input_mass = meta['logM_total'][:]"
   ]
  },
  {
   "cell_type": "code",
   "execution_count": 165,
   "metadata": {},
   "outputs": [],
   "source": [
    "class convergence_plotter_single2():\n",
    "    def __init__(self,walkers,num_run,data_dir,ID):\n",
    "        self.num_walkers = walkers\n",
    "        self.num_run = num_run\n",
    "        self.data_dir = data_dir\n",
    "        self.files = []\n",
    "        self.ID = ID\n",
    "        \n",
    "    def opener(self, pr = False):\n",
    "        f = [x for x in glob.glob(f'{self.data_dir}/*.{self.ID}.mcmc.hdf5')]  \n",
    "        f.sort()\n",
    "        if pr:\n",
    "            print(f)\n",
    "        files = []\n",
    "        \n",
    "        for i in f:\n",
    "            file = h5py.File(i,'r')\n",
    "            files.append(file)\n",
    "        \n",
    "        self.files = files\n",
    "        return bool(len(f))\n",
    "    \n",
    "    def get_output(self):\n",
    "        keys = list(self.files[0].keys())\n",
    "        idx = 0\n",
    "        data = []\n",
    "        for k in keys:\n",
    "            if 'mcmc_chain' in k:\n",
    "                data.append(self.files[0][k][...][:,:,0])\n",
    "                \n",
    "        data = np.ravel(data)\n",
    "        print(data.shape)\n",
    "        med = np.median(data)\n",
    "        return med \n",
    "    def get_err(self):\n",
    "        keys = list(self.files[0].keys())\n",
    "        idx = -1\n",
    "        data = []\n",
    "        for k in keys:\n",
    "            if 'mcmc_chain' in k:\n",
    "                data.append(self.files[0][k][...][:,:,0])\n",
    "        data = np.ravel(data)\n",
    "        med = np.median(data)\n",
    "        up = np.percentile(data,84.1) - med\n",
    "        lo = med - np.percentile(data, 15.9)\n",
    "        return up, lo\n",
    "    \n",
    "    def get_length(self):\n",
    "        data = self.files[0]['mcmc_chain'][...][:,0]\n",
    "        return len(data)"
   ]
  },
  {
   "cell_type": "code",
   "execution_count": 166,
   "metadata": {},
   "outputs": [],
   "source": [
    "# path = os.environ.get('GQPMC_DIR') + 'mini_mocha/ispeculator/ACM/run_03/photo_0_96'\n",
    "path = os.environ.get('GQPMC_DIR') + 'mini_mocha/ispeculator/incremental_test_run/photo_0_31'"
   ]
  },
  {
   "cell_type": "code",
   "execution_count": 167,
   "metadata": {},
   "outputs": [
    {
     "name": "stdout",
     "output_type": "stream",
     "text": [
      "(400000,)\n",
      "(400000,)\n",
      "(400000,)\n",
      "(400000,)\n",
      "(400000,)\n",
      "(400000,)\n",
      "(400000,)\n",
      "(400000,)\n",
      "(400000,)\n",
      "(400000,)\n",
      "(400000,)\n",
      "(400000,)\n",
      "(400000,)\n",
      "(400000,)\n",
      "(400000,)\n",
      "(400000,)\n",
      "(400000,)\n",
      "(400000,)\n",
      "(400000,)\n",
      "(400000,)\n",
      "(400000,)\n",
      "(400000,)\n",
      "(400000,)\n",
      "(400000,)\n",
      "(400000,)\n",
      "(400000,)\n",
      "(400000,)\n",
      "(400000,)\n",
      "(400000,)\n",
      "(400000,)\n",
      "(400000,)\n",
      "96\r"
     ]
    }
   ],
   "source": [
    "path = os.environ.get('GQPMC_DIR') + 'mini_mocha/ispeculator/incremental_test_run/photo_0_31'\n",
    "valid_set = []\n",
    "for i in range(97):\n",
    "    file = convergence_plotter_single2(40,1000000,path,i)\n",
    "    try:\n",
    "        if file.opener(pr = False):\n",
    "            valid_set.append(file)\n",
    "        else:\n",
    "            valid_set.append('N/A')\n",
    "    except:\n",
    "        valid_set.append('N/A')\n",
    "meds = []\n",
    "ups = []\n",
    "los = []\n",
    "for i,s in enumerate(valid_set):\n",
    "    print(i, end = '\\r')\n",
    "    if s != 'N/A':\n",
    "        meds.append(s.get_output())\n",
    "        up, lo = s.get_err()\n",
    "        ups.append(up)\n",
    "        los.append(lo)\n",
    "    else:\n",
    "        meds.append(-1)\n",
    "        up,lo = (0,0)\n",
    "        ups.append(up)\n",
    "        los.append(lo)"
   ]
  },
  {
   "cell_type": "code",
   "execution_count": 179,
   "metadata": {},
   "outputs": [
    {
     "name": "stdout",
     "output_type": "stream",
     "text": [
      "(400000,)\n",
      "(400000,)\n",
      "(400000,)\n",
      "(400000,)\n",
      "(400000,)\n",
      "(400000,)\n",
      "(400000,)\n",
      "(400000,)\n",
      "(400000,)\n",
      "(400000,)\n",
      "(400000,)\n",
      "(400000,)\n",
      "(400000,)\n",
      "(400000,)\n",
      "(400000,)\n",
      "(400000,)\n",
      "(400000,)\n",
      "(400000,)\n",
      "(400000,)\n",
      "(400000,)\n",
      "(400000,)\n",
      "(400000,)\n",
      "(400000,)\n",
      "(400000,)\n",
      "(400000,)\n",
      "(400000,)\n",
      "(400000,)\n",
      "(400000,)\n",
      "(400000,)\n",
      "(400000,)\n",
      "(400000,)\n",
      "96\r"
     ]
    }
   ],
   "source": [
    "path = os.environ.get('GQPMC_DIR') + 'mini_mocha/ispeculator/ACM/run_03/photo_0_96'\n",
    "valid_set2 = []\n",
    "for i in range(97):\n",
    "    file = convergence_plotter_single2(40,1000000,path,i)\n",
    "    try:\n",
    "        if file.opener(pr = False):\n",
    "            valid_set2.append(file)\n",
    "        else:\n",
    "            valid_set2.append('N/A')\n",
    "    except:\n",
    "        valid_set2.append('N/A')\n",
    "meds2 = []\n",
    "ups2 = []\n",
    "los2 = []\n",
    "for i,s in enumerate(valid_set):\n",
    "    print(i, end = '\\r')\n",
    "    if s != 'N/A':\n",
    "        meds2.append(s.get_output())\n",
    "        up, lo = s.get_err()\n",
    "        ups2.append(up)\n",
    "        los2.append(lo)\n",
    "    else:\n",
    "        meds2.append(-1)\n",
    "        up,lo = (0,0)\n",
    "        ups2.append(up)\n",
    "        los2.append(lo)"
   ]
  },
  {
   "cell_type": "code",
   "execution_count": 186,
   "metadata": {
    "scrolled": true
   },
   "outputs": [
    {
     "data": {
      "image/png": "[encoded data removed]",
      "text/plain": [
       "<Figure size 432x288 with 1 Axes>"
      ]
     },
     "metadata": {
      "needs_background": "light"
     },
     "output_type": "display_data"
    }
   ],
   "source": [
    "plt.errorbar(meds2,meds, yerr =(ups,los), xerr = (ups2, los2),fmt = 'ok', ms= 5, label = 'Incremental Saving')\n",
    "plt.xlabel('Without Incremental Saving')\n",
    "plt.ylabel('With Incremental Saving')\n",
    "plt.xlim(9,12)\n",
    "plt.grid()\n",
    "plt.ylim(9,12)\n",
    "plt.plot([9,12],[9,12], c = 'r', lw = 1)\n",
    "plt.title('Incremental Saving Validation\\nPhotometry igal = [0,31]')\n",
    "plt.savefig('incremental_validation.pdf', format = 'pdf')"
   ]
  },
  {
   "cell_type": "code",
   "execution_count": null,
   "metadata": {},
   "outputs": [],
   "source": []
  }
 ],
 "metadata": {
  "kernelspec": {
   "display_name": "Python 3",
   "language": "python",
   "name": "python3"
  },
  "language_info": {
   "codemirror_mode": {
    "name": "ipython",
    "version": 3
   },
   "file_extension": ".py",
   "mimetype": "text/x-python",
   "name": "python",
   "nbconvert_exporter": "python",
   "pygments_lexer": "ipython3",
   "version": "3.7.5"
  }
 },
 "nbformat": 4,
 "nbformat_minor": 4
}
